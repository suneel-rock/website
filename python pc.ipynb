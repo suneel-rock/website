{
 "cells": [
  {
   "cell_type": "code",
   "execution_count": null,
   "id": "6bd9418e",
   "metadata": {},
   "outputs": [],
   "source": [
    "a=int(input(\"Enter a value =\"))\n",
    "b=int(input(\"Enter a value =\"))\n",
    "if a>b:\n",
    "    print('a gaterthan ')\n",
    "else:\n",
    "    print('b greterthan ')"
   ]
  },
  {
   "cell_type": "code",
   "execution_count": null,
   "id": "574a77a0",
   "metadata": {},
   "outputs": [],
   "source": [
    "a=int(input(\"Enter a value =\"))\n",
    "b=int(input(\"Enter a value =\"))\n",
    "if a>b:\n",
    "    print('a gaterthan value ')\n",
    "else:\n",
    "    print('b greterthan value ')"
   ]
  },
  {
   "cell_type": "markdown",
   "id": "9f3876dd",
   "metadata": {},
   "source": [
    "a=int(input(\"Enter a value =\"))\n",
    "b=int(input(\"Enter a value =\"))\n",
    "if a>b:\n",
    "    print('a gaterthan value ')\n",
    "else:\n",
    "    print('b greterthan value ')"
   ]
  },
  {
   "cell_type": "code",
   "execution_count": null,
   "id": "63ada99c",
   "metadata": {},
   "outputs": [],
   "source": [
    "a=int(input(\"Enter a value =\"))\n",
    "b=int(input(\"Enter a value =\"))\n",
    "if a>b:\n",
    "    print('A is greater ',a)\n",
    "else:\n",
    "    print('B greater',b)"
   ]
  },
  {
   "cell_type": "code",
   "execution_count": null,
   "id": "a3365a55",
   "metadata": {},
   "outputs": [],
   "source": [
    "a=int(input(\"Enter a value =\"))\n",
    "b=int(input(\"Enter a value =\"))\n",
    "if a>b:\n",
    "    print('A is greater ',a)\n",
    "else:\n",
    "    print('B greater',b)"
   ]
  },
  {
   "cell_type": "code",
   "execution_count": null,
   "id": "79362397",
   "metadata": {},
   "outputs": [],
   "source": [
    "a=int(input(\"Enter a value =\"))\n",
    "b=int(input(\"Enter a value =\"))\n",
    "if a>b:\n",
    "    print('A is greater ',a)\n",
    "else:\n",
    "    if b>a:\n",
    "       print('B greater',b)\n",
    "    else:\n",
    "       print('both are equal')      \n",
    "              a=int(input(\"Enter a value =\"))\n",
    "b=int(input(\"Enter a value =\"))\n",
    "if a>b:\n",
    "    print('A is greater ',a)\n",
    "else:\n",
    "    print('B greater',b)\n",
    "        \n",
    "    "
   ]
  },
  {
   "cell_type": "code",
   "execution_count": null,
   "id": "83ae3c00",
   "metadata": {},
   "outputs": [],
   "source": [
    "a=int(input(\"Enter a value =\"))\n",
    "b=int(input(\"Enter a value =\"))\n",
    "if a>b:\n",
    "    print('A is greater ',a)\n",
    "else:\n",
    "    if b>a:\n",
    "       print('B greater',b)\n",
    "    else:\n",
    "       print('both are equal')   "
   ]
  },
  {
   "cell_type": "code",
   "execution_count": null,
   "id": "340d7114",
   "metadata": {},
   "outputs": [],
   "source": [
    "a=int(input(\"Enter a value =\"))\n",
    "b=int(input(\"Enter a value =\"))\n",
    "if a>b:\n",
    "    print('A is greater ',a)\n",
    "else:\n",
    "    if b>a:\n",
    "       print('B greater',b)\n",
    "    else:\n",
    "       print('both are equal')   "
   ]
  },
  {
   "cell_type": "code",
   "execution_count": null,
   "id": "0cf275df",
   "metadata": {},
   "outputs": [],
   "source": [
    "s1=input(\"enter s1 subject =\")\n",
    "s2=input(\"enter s2 subject =\")\n",
    "s3=input(\"enter s3 subject =\")\n",
    "if s1 in('maths','physics','chemistry'):\n",
    "    print(\"scince student\")\n",
    "elif s2 in('maths','physics','chemistry'):\n",
    "    print(\"scince student\")\n",
    "elif s3 in('maths','physics','chemistry'):\n",
    "    print(\"scince student\")\n",
    "else:\n",
    "    print(\"arts student\")\n",
    "    "
   ]
  },
  {
   "cell_type": "code",
   "execution_count": null,
   "id": "282981cb",
   "metadata": {},
   "outputs": [],
   "source": [
    "# CONCEPT LIST[]\n",
    "\n",
    "#list creation?\n",
    "s=['java','python']\n",
    "print(s)"
   ]
  },
  {
   "cell_type": "code",
   "execution_count": null,
   "id": "0664eb3e",
   "metadata": {},
   "outputs": [],
   "source": [
    "#list append()?\n",
    "#syntax = listobj.append(value)\n",
    "#->this function is used for adding the value(s) at the end of list object.\n",
    "s=['java','python']\n",
    "s.append('oracle')\n",
    "print(s)"
   ]
  },
  {
   "cell_type": "code",
   "execution_count": 1,
   "id": "55c9e038",
   "metadata": {},
   "outputs": [
    {
     "name": "stdout",
     "output_type": "stream",
     "text": [
      "['java', 'python', 'oracle', 'jython']\n"
     ]
    }
   ],
   "source": [
    "s=['java','python']\n",
    "s.append('oracle')\n",
    "a='jython'\n",
    "s.append(a)\n",
    "print(s)"
   ]
  },
  {
   "cell_type": "code",
   "execution_count": 2,
   "id": "fb897e26",
   "metadata": {},
   "outputs": [
    {
     "name": "stdout",
     "output_type": "stream",
     "text": [
      "['java', 'python', 'oracle', 'jython', 'c', 'html']\n"
     ]
    }
   ],
   "source": [
    "s=['java','python']\n",
    "s.append('oracle')\n",
    "a='jython'\n",
    "s.append(a)\n",
    "b='c'\n",
    "s.append(b)\n",
    "c='html'\n",
    "s.append(c)\n",
    "print(s)"
   ]
  },
  {
   "cell_type": "code",
   "execution_count": null,
   "id": "43e8aa03",
   "metadata": {},
   "outputs": [],
   "source": [
    "#write a program to input n values inside list?\n",
    "\n",
    "list1=[]\n",
    "n=int(input('enter how many values'))\n",
    "for i in range(n):\n",
    "    value=int(input('enter eny value'))\n",
    "    list1.append(value)\n",
    "print(list1)    "
   ]
  },
  {
   "cell_type": "code",
   "execution_count": null,
   "id": "283a8dba",
   "metadata": {},
   "outputs": [],
   "source": [
    "#write a programme to read scores of n players and display\n",
    "\n",
    "scores=[]\n",
    "n=int(input('enter scores of how many players'))\n",
    "for i in range(n):\n",
    "    score=int(input('enter score'))\n",
    "    scores.append(score)\n",
    "print(scores)\n",
    "for i in range(n):\n",
    "    print('player',(i+1),scores[i])\n",
    "    "
   ]
  },
  {
   "cell_type": "code",
   "execution_count": null,
   "id": "6a94e1b4",
   "metadata": {},
   "outputs": [],
   "source": [
    "scores=[]\n",
    "n=int(input('enter how many pleyers'))\n",
    "for i in range(n):\n",
    "    score=int(input('enter score'))\n",
    "    scores.append(score)\n",
    "print(scores)\n",
    "n=1\n",
    "for s in scores:\n",
    "    print('player',n,\"->\",s)\n",
    "    n+=1"
   ]
  },
  {
   "cell_type": "code",
   "execution_count": null,
   "id": "e7e2c6be",
   "metadata": {},
   "outputs": [],
   "source": [
    "#write a programe to read name,n subject marks?\n",
    "#find total,avg,result\n",
    "\n",
    "name=input('enter name')\n",
    "n=int(input('how many subjects'))\n",
    "marks=[]\n",
    "for i in range(n):\n",
    "    m=int(input('enter marks'))\n",
    "    marks.append(m)\n",
    "total=0\n",
    "for m in marks:\n",
    "    total=total+m\n",
    "    \n",
    "avg=total/n\n",
    "print('Name',name)\n",
    "print('marks',marks)\n",
    "print('Total',total)\n",
    "print('Avg',avg)\n",
    "\n",
    "result=\"pass\"\n",
    "for m in marks:\n",
    "    if m<40:\n",
    "        result=\"fail\"\n",
    "        break\n",
    "print('Result',result)        \n",
    "    \n",
    "    "
   ]
  },
  {
   "cell_type": "code",
   "execution_count": null,
   "id": "f4dbe06a",
   "metadata": {},
   "outputs": [],
   "source": [
    "#write a programe to read n eliments inside list?\n",
    "#and seperate even numbers and odd numbers?\n",
    "\n",
    "\n",
    "n=int(input('enter value of n'))\n",
    "list1=[]\n",
    "for i in range(n):\n",
    "    value=int(input('enter any value'))\n",
    "    list1.append(value)\n",
    "print(list1)\n",
    "\n",
    "evenlist=[]\n",
    "oddlist=[]\n",
    "for value in list1:\n",
    "    if value%2==0:\n",
    "        evenlist.append(value)\n",
    "    else:\n",
    "        oddlist.append(value)\n",
    "        \n",
    "print('evenlist')\n",
    "print('oddlist')"
   ]
  },
  {
   "cell_type": "code",
   "execution_count": null,
   "id": "10070674",
   "metadata": {},
   "outputs": [],
   "source": []
  },
  {
   "cell_type": "code",
   "execution_count": null,
   "id": "679e82eb",
   "metadata": {},
   "outputs": [
    {
     "name": "stdout",
     "output_type": "stream",
     "text": [
      "email book\n",
      "1.adding\n",
      "2.removing\n",
      "3.searching\n",
      "4.listing\n",
      "5.exit\n",
      "enter your option1\n",
      "enter mailidsuneel@gmail.com\n",
      "email id is added\n",
      "email book\n",
      "1.adding\n",
      "2.removing\n",
      "3.searching\n",
      "4.listing\n",
      "5.exit\n",
      "enter your option3\n",
      "enter mailid to searchsuneel@gmail.com\n",
      "emailid is found\n",
      "email book\n",
      "1.adding\n",
      "2.removing\n",
      "3.searching\n",
      "4.listing\n",
      "5.exit\n",
      "enter your option4\n",
      "suneel@gmail.com\n",
      "email book\n",
      "1.adding\n",
      "2.removing\n",
      "3.searching\n",
      "4.listing\n",
      "5.exit\n",
      "enter your option2\n",
      "enter mailid is removingsuneel@gmail.com\n",
      "emailid removed..\n",
      "email book\n",
      "1.adding\n",
      "2.removing\n",
      "3.searching\n",
      "4.listing\n",
      "5.exit\n"
     ]
    }
   ],
   "source": [
    "#EMAIL BOOK APPLICATION?\n",
    "\n",
    "emailbook=[]\n",
    "while True:\n",
    "    print('email book')\n",
    "    print('1.adding')\n",
    "    print('2.removing')\n",
    "    print('3.searching')\n",
    "    print('4.listing')\n",
    "    print('5.exit')\n",
    "    opt=int(input('enter your option'))\n",
    "    if opt==1:\n",
    "        mailid=input('enter mailid')\n",
    "        emailbook.append(mailid)\n",
    "        print('email id is added')\n",
    "    elif opt==2:\n",
    "        mailid=input('enter mailid is removing')\n",
    "        if mailid in emailbook:\n",
    "            emailbook.append(mailid)\n",
    "            print('emailid removed..')\n",
    "        else:\n",
    "            print('emailid is not found')\n",
    "    elif opt==3:\n",
    "        mailid=input('enter mailid to search')\n",
    "        if mailid in emailbook:\n",
    "            print('emailid is found')\n",
    "        else:\n",
    "            print('emailid is not found')\n",
    "    elif opt==4:\n",
    "        for emailid in emailbook:\n",
    "            print(emailid)\n",
    "    elif opt==5:\n",
    "        break"
   ]
  },
  {
   "cell_type": "code",
   "execution_count": null,
   "id": "28ff0e3e",
   "metadata": {},
   "outputs": [],
   "source": [
    "#implimentation of stack using list?\n",
    "#push->adding eliment/item(append)\n",
    "#pop->removing element/item(pop)\n",
    "\n",
    "\n",
    "stack=[]\n",
    "while True:\n",
    "    print('1.push')\n",
    "    print('2.pop')\n",
    "    print('3.view')\n",
    "    print('4.exit')\n",
    "    opt=int(input('enter any option'))\n",
    "    if opt==1:\n",
    "        ele=int(input('enter any element'))\n",
    "        stack.append(ele)\n",
    "        print('element pushed inside stack')\n",
    "    elif opt==2:\n",
    "        if len(stack)==0:\n",
    "            print('stack is empty')\n",
    "        else:\n",
    "            ele=stack.pop()\n",
    "            print('element poped is',ele)\n",
    "    elif opt==3:\n",
    "        print(stack)\n",
    "    elif opt==4:\n",
    "        break"
   ]
  },
  {
   "cell_type": "code",
   "execution_count": null,
   "id": "41cf96e0",
   "metadata": {},
   "outputs": [],
   "source": [
    "stack=[]\n",
    "while True:\n",
    "    print('1.push')\n",
    "    print('2.pop')\n",
    "    print('3.view')\n",
    "    print('4.exit')\n",
    "    opt=int(input('enter any option'))\n",
    "    if opt==1:\n",
    "        ele=int(input('enter any eliment'))\n",
    "        stack.append(ele)\n",
    "        print('element pushed inside list')\n",
    "    elif opt==2:\n",
    "        if len('satck')==0:\n",
    "            print('stack is empty')\n",
    "        else:\n",
    "            ele=stack.pop()\n",
    "            print('element is poped',ele)\n",
    "    elif opt==3:\n",
    "        print(stack)\n",
    "    elif opt==4:\n",
    "        break"
   ]
  },
  {
   "cell_type": "code",
   "execution_count": null,
   "id": "ae94e549",
   "metadata": {},
   "outputs": [],
   "source": [
    "#implimentaion of queue using list?\n",
    "\n",
    "queue=[]\n",
    "while True:\n",
    "    print('1.add')\n",
    "    print('2.remove')\n",
    "    print('3.view')\n",
    "    print('4.exit')\n",
    "    opt=int(input('enter any option'))\n",
    "    if opt==1:\n",
    "        ele=int(input('enter any element'))\n",
    "        queue.append(ele)\n",
    "        print('element added')\n",
    "    elif opt==2:\n",
    "        if len(queue)==0:\n",
    "            print('queue is a empty')\n",
    "        else:\n",
    "            ele=queue[0]\n",
    "            del queue[0]\n",
    "            print(ele,'remove from queue')\n",
    "    elif opt==3:\n",
    "        print(queue)\n",
    "    elif opt==4:\n",
    "        break\n",
    "      "
   ]
  },
  {
   "cell_type": "code",
   "execution_count": null,
   "id": "3f89e397",
   "metadata": {},
   "outputs": [],
   "source": [
    "list1=[]\n",
    "n=int(input())\n",
    "for i in range(n):\n",
    "    cmd=input().split()\n",
    "    if cmd[0]=='append':\n",
    "        list1.append(int(cmd[1]))\n",
    "    elif cmd[0]=='insert':\n",
    "        list1.insert(int(cmd[1]),int(cmd[2]))\n",
    "    elif cmd[0]=='remove':\n",
    "        list1.remove(int(cmd[1]))\n",
    "    elif cmd[0]=='pop':\n",
    "        list1.pop()\n",
    "    elif cmd[0]=='print':\n",
    "        print(list1)\n",
    "    elif cmd[0]=='sort':\n",
    "        list1.sort"
   ]
  },
  {
   "cell_type": "code",
   "execution_count": null,
   "id": "e6edbf48",
   "metadata": {},
   "outputs": [],
   "source": [
    "# INSERT()\n",
    "# SYNTAX:-list object.insert(index,value)\n",
    "#-> this function is used for inserting value(s) at specified index in list object."
   ]
  },
  {
   "cell_type": "code",
   "execution_count": null,
   "id": "49f81ba1",
   "metadata": {},
   "outputs": [],
   "source": [
    "l1=[10,'anil',10.98,'True']\n",
    "l1.insert(2,'python')\n",
    "l1.insert(-1,'false')\n",
    "l1[3]=55.45\n",
    "print(l1,type(l1),id(l1))"
   ]
  },
  {
   "cell_type": "code",
   "execution_count": null,
   "id": "93393fa2",
   "metadata": {},
   "outputs": [],
   "source": [
    "#DELETE OPERATOR\n",
    "syntax1:- del object[index]\n",
    "syntax2:- del object[bigin index:end index] \n",
    "syntax3:- del object\n",
    "    =>here \"del\" operator is used for deleting the elements of any object contains more elements either based\n",
    "    on INDEXING or SLICING or TOTAL OBJECT with CONTENT"
   ]
  },
  {
   "cell_type": "code",
   "execution_count": null,
   "id": "61124d09",
   "metadata": {},
   "outputs": [],
   "source": [
    "l1=[10,'anil',10.98,'True','python','false']\n",
    "del l1[3]\n",
    "del l1[2:4]\n",
    "del l1[::2]\n",
    "print(l1,id(l1))"
   ]
  },
  {
   "cell_type": "code",
   "execution_count": null,
   "id": "ae14c378",
   "metadata": {},
   "outputs": [],
   "source": [
    "#COUNT()\n",
    "#syntax:-listobj.count(value)"
   ]
  },
  {
   "cell_type": "code",
   "execution_count": null,
   "id": "cc6026ed",
   "metadata": {},
   "outputs": [],
   "source": []
  },
  {
   "cell_type": "code",
   "execution_count": null,
   "id": "9b6b1887",
   "metadata": {},
   "outputs": [],
   "source": [
    "#list extend?#extend method is used to add multiple values to the list at atime\n",
    "# we can use ononly compound datatype ex:([1,2,3,4,5])\n",
    "a=[1,2]\n",
    "a.extend([1,2,3,4,5])\n",
    "print(a)"
   ]
  },
  {
   "cell_type": "code",
   "execution_count": null,
   "id": "a240e8b3",
   "metadata": {},
   "outputs": [],
   "source": [
    "a=[1,2]\n",
    "a.extend([3,4,5])\n",
    "print(a)"
   ]
  },
  {
   "cell_type": "code",
   "execution_count": null,
   "id": "9ccace5d",
   "metadata": {},
   "outputs": [],
   "source": [
    "list1=[10,20,30]\n",
    "list1.extend([40,50])\n",
    "print(list1)"
   ]
  },
  {
   "cell_type": "code",
   "execution_count": null,
   "id": "e46877c2",
   "metadata": {},
   "outputs": [],
   "source": [
    "#list deletion\n",
    "1.pop()\n",
    "2.remove()\n",
    "3.clear()"
   ]
  },
  {
   "cell_type": "code",
   "execution_count": null,
   "id": "a7fd733d",
   "metadata": {},
   "outputs": [],
   "source": [
    "#list pop()\n",
    "# use pop() method when we want to remove an eliment at particular index\n",
    "# pop() is default apply(-1)\n",
    "a=[1,2,3,4,5,6,'a','b','c','d','e']\n",
    "a.pop()\n",
    "print(a)"
   ]
  },
  {
   "cell_type": "code",
   "execution_count": null,
   "id": "ab442a13",
   "metadata": {},
   "outputs": [],
   "source": [
    "a=[1,2,3,4,5,6,'a','b','c','d','e']\n",
    "a.pop(-2)\n",
    "print(a)"
   ]
  },
  {
   "cell_type": "code",
   "execution_count": null,
   "id": "5aa6c7c1",
   "metadata": {},
   "outputs": [],
   "source": [
    "a=[1,2,3,4,5,6,'a','b','c','d','e']\n",
    "a.pop(2)\n",
    "print(a)"
   ]
  },
  {
   "cell_type": "code",
   "execution_count": null,
   "id": "001e07aa",
   "metadata": {},
   "outputs": [],
   "source": [
    "# list remove?\n",
    "# use remove() method when we want to remove an eliment without knpwing the index.\n",
    "\n",
    "a=[1,2,3,4,5,6,'a','b','c','d','e']\n",
    "a.remove(2)\n",
    "print(a)"
   ]
  },
  {
   "cell_type": "code",
   "execution_count": null,
   "id": "f3643320",
   "metadata": {},
   "outputs": [],
   "source": [
    "a=[1,2,3,4,5,6,'a','b','c','d','e']\n",
    "a.remove('b')\n",
    "print(a)"
   ]
  },
  {
   "cell_type": "code",
   "execution_count": null,
   "id": "552a3f6a",
   "metadata": {},
   "outputs": [],
   "source": [
    "a=[1,2,3,4,5,6,'a','b','c','d','e']\n",
    "a.remove(10)\n",
    "print(a)"
   ]
  },
  {
   "cell_type": "code",
   "execution_count": null,
   "id": "aac57de7",
   "metadata": {},
   "outputs": [],
   "source": [
    "#write a program to remove all accurence of given value?\n",
    "\n",
    "list1=[10,20,30,10,40,10,50,10]\n",
    "while True:\n",
    "    if 10 in list1:\n",
    "        list1.remove(10)\n",
    "    else:\n",
    "        break\n",
    "print(list1)    "
   ]
  },
  {
   "cell_type": "code",
   "execution_count": null,
   "id": "4218ff64",
   "metadata": {},
   "outputs": [],
   "source": []
  },
  {
   "cell_type": "code",
   "execution_count": null,
   "id": "64d3dcf6",
   "metadata": {},
   "outputs": [],
   "source": []
  },
  {
   "cell_type": "code",
   "execution_count": null,
   "id": "e7f971bf",
   "metadata": {},
   "outputs": [],
   "source": []
  },
  {
   "cell_type": "code",
   "execution_count": null,
   "id": "71978b17",
   "metadata": {},
   "outputs": [],
   "source": [
    "# list clear()?\n",
    "# use clear() method when you want to delete whole list.\n",
    "\n",
    "a=[1,2,3,4,5,6,'a','b','c','d','e']\n",
    "a.clear()\n",
    "print(a)"
   ]
  },
  {
   "cell_type": "code",
   "execution_count": null,
   "id": "cf72cf3a",
   "metadata": {},
   "outputs": [],
   "source": [
    "# list updation\n",
    "#listname:-list that we created\n",
    "#index:-in which index we want to update value\n",
    "#newvalue:-value we have to update\n",
    "\n",
    "l=[1,2,3,4,5,6,7,7,9,9]\n",
    "l[3]=10\n",
    "print(l)"
   ]
  },
  {
   "cell_type": "code",
   "execution_count": null,
   "id": "8e9dae08",
   "metadata": {},
   "outputs": [],
   "source": [
    "l=[1,2,3,4,5,6,7,8,9]\n",
    "l[3:6]=100,200,300\n",
    "print(l)"
   ]
  },
  {
   "cell_type": "code",
   "execution_count": null,
   "id": "e3abc284",
   "metadata": {},
   "outputs": [],
   "source": [
    "l=[1,2,3,[10,20,30]]\n",
    "l[3]='python'\n",
    "print(l)"
   ]
  },
  {
   "cell_type": "code",
   "execution_count": null,
   "id": "6abd7421",
   "metadata": {},
   "outputs": [],
   "source": [
    "l=[10,20,30,40]\n",
    "l[-1]=50\n",
    "print(l)"
   ]
  },
  {
   "cell_type": "code",
   "execution_count": null,
   "id": "8919be7b",
   "metadata": {},
   "outputs": [],
   "source": [
    "l=[10,20,30,40]\n",
    "l[:]\n",
    "print(l)"
   ]
  },
  {
   "cell_type": "code",
   "execution_count": null,
   "id": "bea4b69d",
   "metadata": {},
   "outputs": [],
   "source": [
    "l=[10,20,30,40,50,60,70,80]\n",
    "l[::2]\n",
    "print(l)"
   ]
  },
  {
   "cell_type": "code",
   "execution_count": 2,
   "id": "1f938b64",
   "metadata": {},
   "outputs": [
    {
     "name": "stdout",
     "output_type": "stream",
     "text": [
      "count of values 16\n",
      "7\n",
      "35\n",
      "42\n",
      "14\n",
      "even number count = 9\n",
      "odd number count = 7\n"
     ]
    }
   ],
   "source": [
    "#find how many values/items exists whithin list?\n",
    "\n",
    "numberlist=[2,5,6,7,8,16,9,12,15,20,95,23,30,35,42,14]\n",
    "c=0\n",
    "for i in numberlist:\n",
    "    c=c+1\n",
    "print('count of values',c)\n",
    "\n",
    "#print values which are divisable with 7?\n",
    "\n",
    "for n in numberlist:\n",
    "    if n%7==0:\n",
    "       print(n)\n",
    "    \n",
    "#count even and odd numbers count exists within list?\n",
    "\n",
    "ec=0\n",
    "oc=0\n",
    "for s in numberlist:\n",
    "    if s%2==0:\n",
    "        ec+=1\n",
    "    else:\n",
    "        oc+=1\n",
    "print('even number count',\"=\",ec)     \n",
    "print('odd number count',\"=\",oc)\n",
    "        \n",
    "\n",
    "    "
   ]
  },
  {
   "cell_type": "code",
   "execution_count": null,
   "id": "3d249bcd",
   "metadata": {},
   "outputs": [],
   "source": []
  },
  {
   "cell_type": "code",
   "execution_count": null,
   "id": "323e2182",
   "metadata": {},
   "outputs": [],
   "source": []
  },
  {
   "cell_type": "code",
   "execution_count": null,
   "id": "0e050af3",
   "metadata": {},
   "outputs": [],
   "source": []
  },
  {
   "cell_type": "code",
   "execution_count": 1,
   "id": "7a79c1f3",
   "metadata": {},
   "outputs": [
    {
     "name": "stdout",
     "output_type": "stream",
     "text": [
      "5 5 5 5 5 \n",
      "4 4 4 4 \n",
      "3 3 3 \n",
      "2 2 \n",
      "1 \n"
     ]
    }
   ],
   "source": [
    "j=1\n",
    "i=5\n",
    "while j<=i:\n",
    "    while i>=j:\n",
    "        print(i,end=' ')\n",
    "        j+=1\n",
    "    print()\n",
    "    j=1\n",
    "    i-=1\n",
    "\n",
    "    "
   ]
  },
  {
   "cell_type": "code",
   "execution_count": 2,
   "id": "d53eadab",
   "metadata": {},
   "outputs": [
    {
     "name": "stdout",
     "output_type": "stream",
     "text": [
      "5 4 3 2 1 \n",
      "4 3 2 1 \n",
      "3 2 1 \n",
      "2 1 \n",
      "1 \n"
     ]
    }
   ],
   "source": [
    "i=5\n",
    "while i>=1:\n",
    "    j=i\n",
    "    while j>=1:\n",
    "        print(j,end=' ')\n",
    "        j-=1\n",
    "    print()\n",
    "    i-=1"
   ]
  },
  {
   "cell_type": "code",
   "execution_count": 3,
   "id": "ea02fc91",
   "metadata": {},
   "outputs": [
    {
     "name": "stdout",
     "output_type": "stream",
     "text": [
      "1 2 3 4 5 \n",
      "2 3 4 5 \n",
      "3 4 5 \n",
      "4 5 \n",
      "5 \n"
     ]
    }
   ],
   "source": [
    "i=1\n",
    "while i<=5:\n",
    "    j=i\n",
    "    while j<=5:\n",
    "        print(j,end=' ')\n",
    "        j+=1\n",
    "    print()\n",
    "    i+=1"
   ]
  },
  {
   "cell_type": "code",
   "execution_count": null,
   "id": "0f6ab3f0",
   "metadata": {},
   "outputs": [],
   "source": [
    "i=1\n",
    "while i<=5:\n",
    "    j=1\n",
    "    while j<=i:\n",
    "        print(j,end=' ')\n",
    "        j+=1\n",
    "    print()\n",
    "    i+=1"
   ]
  },
  {
   "cell_type": "code",
   "execution_count": null,
   "id": "bec9ae72",
   "metadata": {},
   "outputs": [],
   "source": [
    "try:\n",
    "    print('hi'+10)\n",
    "except Exception as err:\n",
    "    print(err.args)"
   ]
  },
  {
   "cell_type": "code",
   "execution_count": null,
   "id": "36973ec4",
   "metadata": {},
   "outputs": [],
   "source": [
    "try:\n",
    "    print(15/0)\n",
    "except Exception as err:\n",
    "    print(err.args)\n",
    "    \n",
    "    \n",
    "    "
   ]
  },
  {
   "cell_type": "code",
   "execution_count": null,
   "id": "fb8939a2",
   "metadata": {},
   "outputs": [],
   "source": [
    "l1"
   ]
  },
  {
   "cell_type": "code",
   "execution_count": null,
   "id": "7f045ede",
   "metadata": {},
   "outputs": [],
   "source": [
    "try:\n",
    "    value=l1[7]\n",
    "except Exception as err:\n",
    "    print(err.args)\n",
    "else:\n",
    "    print('value')\n",
    "finally:\n",
    "    print(\"thanks\")\n",
    "    "
   ]
  },
  {
   "cell_type": "code",
   "execution_count": null,
   "id": "d9cea9d1",
   "metadata": {},
   "outputs": [],
   "source": [
    "#create global variables in locally?"
   ]
  },
  {
   "cell_type": "code",
   "execution_count": null,
   "id": "e3870053",
   "metadata": {},
   "outputs": [],
   "source": [
    "def f1():\n",
    "    m=111\n",
    "    n=222\n",
    "    return m+n"
   ]
  },
  {
   "cell_type": "code",
   "execution_count": null,
   "id": "e1977b22",
   "metadata": {},
   "outputs": [],
   "source": [
    "f1()"
   ]
  },
  {
   "cell_type": "code",
   "execution_count": null,
   "id": "678958ac",
   "metadata": {},
   "outputs": [],
   "source": [
    "#out side function we can't access\n",
    "def f2():\n",
    "    return m+n"
   ]
  },
  {
   "cell_type": "code",
   "execution_count": null,
   "id": "0beab0c1",
   "metadata": {},
   "outputs": [],
   "source": [
    " def f1():\n",
    "    f1.m=111\n",
    "    f1.n=222\n",
    "    return f1.m+f1.n"
   ]
  },
  {
   "cell_type": "code",
   "execution_count": 6,
   "id": "1c1a643e",
   "metadata": {},
   "outputs": [],
   "source": [
    "#ex\n",
    "def f2():\n",
    "    return f1.m+f1.n"
   ]
  },
  {
   "cell_type": "code",
   "execution_count": 7,
   "id": "bd463320",
   "metadata": {},
   "outputs": [
    {
     "name": "stdout",
     "output_type": "stream",
     "text": [
      "{}\n"
     ]
    },
    {
     "data": {
      "text/plain": [
       "333"
      ]
     },
     "execution_count": 7,
     "metadata": {},
     "output_type": "execute_result"
    }
   ],
   "source": [
    "f1()"
   ]
  },
  {
   "cell_type": "code",
   "execution_count": 8,
   "id": "48617b8c",
   "metadata": {},
   "outputs": [
    {
     "data": {
      "text/plain": [
       "111"
      ]
     },
     "execution_count": 8,
     "metadata": {},
     "output_type": "execute_result"
    }
   ],
   "source": [
    "f1.m"
   ]
  },
  {
   "cell_type": "code",
   "execution_count": 9,
   "id": "ee05fbb3",
   "metadata": {},
   "outputs": [
    {
     "data": {
      "text/plain": [
       "222"
      ]
     },
     "execution_count": 9,
     "metadata": {},
     "output_type": "execute_result"
    }
   ],
   "source": [
    "f1.n"
   ]
  },
  {
   "cell_type": "code",
   "execution_count": 10,
   "id": "b9bab310",
   "metadata": {},
   "outputs": [
    {
     "data": {
      "text/plain": [
       "333"
      ]
     },
     "execution_count": 10,
     "metadata": {},
     "output_type": "execute_result"
    }
   ],
   "source": [
    "f2()"
   ]
  },
  {
   "cell_type": "code",
   "execution_count": 11,
   "id": "921f9ce0",
   "metadata": {},
   "outputs": [],
   "source": [
    "def f1():\n",
    "    f1.m=111\n",
    "    f1.n=222\n",
    "    print(locals())\n",
    "    return f1.m+f1.n"
   ]
  },
  {
   "cell_type": "code",
   "execution_count": null,
   "id": "a6ff0abf",
   "metadata": {},
   "outputs": [],
   "source": [
    "f2()"
   ]
  },
  {
   "cell_type": "code",
   "execution_count": null,
   "id": "387f4a73",
   "metadata": {},
   "outputs": [],
   "source": [
    " def f11():\n",
    "    f11.x=100\n",
    "    f11.y=111\n",
    "    return f11.x+f11.y"
   ]
  },
  {
   "cell_type": "code",
   "execution_count": null,
   "id": "6de3be2c",
   "metadata": {},
   "outputs": [],
   "source": [
    "def f22():\n",
    "    return f11.x+f11.y"
   ]
  },
  {
   "cell_type": "code",
   "execution_count": null,
   "id": "a6ea2c9a",
   "metadata": {},
   "outputs": [],
   "source": [
    "f22()"
   ]
  },
  {
   "cell_type": "code",
   "execution_count": null,
   "id": "79661653",
   "metadata": {},
   "outputs": [],
   "source": [
    "def f22():\n",
    "    f11()\n",
    "    return f11.x+f11.y\n",
    "   "
   ]
  },
  {
   "cell_type": "code",
   "execution_count": null,
   "id": "882491b3",
   "metadata": {},
   "outputs": [],
   "source": [
    "f22()"
   ]
  },
  {
   "cell_type": "code",
   "execution_count": null,
   "id": "9a73e1f2",
   "metadata": {},
   "outputs": [],
   "source": [
    "def f1():\n",
    "    global x,y\n",
    "    x=111\n",
    "    y=222\n",
    "    return x+y"
   ]
  },
  {
   "cell_type": "code",
   "execution_count": null,
   "id": "edeedf18",
   "metadata": {},
   "outputs": [],
   "source": [
    "f1()"
   ]
  },
  {
   "cell_type": "code",
   "execution_count": null,
   "id": "fde61c50",
   "metadata": {},
   "outputs": [],
   "source": [
    "def f1():\n",
    "    global x,y\n",
    "    x=111\n",
    "    y=222\n",
    "    return x+y,locals()"
   ]
  },
  {
   "cell_type": "code",
   "execution_count": null,
   "id": "0cab10a3",
   "metadata": {},
   "outputs": [],
   "source": [
    "f1()"
   ]
  },
  {
   "cell_type": "code",
   "execution_count": null,
   "id": "21e295a3",
   "metadata": {},
   "outputs": [],
   "source": [
    "x"
   ]
  },
  {
   "cell_type": "code",
   "execution_count": null,
   "id": "b1b295b6",
   "metadata": {},
   "outputs": [],
   "source": [
    "y"
   ]
  },
  {
   "cell_type": "code",
   "execution_count": null,
   "id": "819df388",
   "metadata": {},
   "outputs": [],
   "source": [
    "def f1():\n",
    "    l1=[10,20]\n",
    "    return l1"
   ]
  },
  {
   "cell_type": "code",
   "execution_count": null,
   "id": "e1e78ed5",
   "metadata": {},
   "outputs": [],
   "source": [
    "f1()"
   ]
  },
  {
   "cell_type": "code",
   "execution_count": null,
   "id": "1a5ecd89",
   "metadata": {},
   "outputs": [],
   "source": [
    "m,n=f1()"
   ]
  },
  {
   "cell_type": "code",
   "execution_count": null,
   "id": "0b553141",
   "metadata": {},
   "outputs": [],
   "source": [
    "m"
   ]
  },
  {
   "cell_type": "code",
   "execution_count": null,
   "id": "d3e29c13",
   "metadata": {},
   "outputs": [],
   "source": [
    "n"
   ]
  },
  {
   "cell_type": "code",
   "execution_count": null,
   "id": "a34b0f03",
   "metadata": {},
   "outputs": [],
   "source": [
    "# *,**,*args,*kwargs"
   ]
  },
  {
   "cell_type": "code",
   "execution_count": null,
   "id": "b3471eda",
   "metadata": {},
   "outputs": [],
   "source": [
    "l1= [10,20,30,40,50]"
   ]
  },
  {
   "cell_type": "code",
   "execution_count": null,
   "id": "e70e54ac",
   "metadata": {},
   "outputs": [],
   "source": [
    "print(l1)"
   ]
  },
  {
   "cell_type": "code",
   "execution_count": null,
   "id": "7fb585aa",
   "metadata": {},
   "outputs": [],
   "source": [
    "for i in l1:\n",
    "    print(i,end=' ')"
   ]
  },
  {
   "cell_type": "code",
   "execution_count": null,
   "id": "5dbd5f64",
   "metadata": {},
   "outputs": [],
   "source": [
    "print(*l1)"
   ]
  },
  {
   "cell_type": "code",
   "execution_count": null,
   "id": "da9db50b",
   "metadata": {},
   "outputs": [],
   "source": [
    "r1=range(0,26,5)"
   ]
  },
  {
   "cell_type": "code",
   "execution_count": null,
   "id": "0ce8aa5c",
   "metadata": {},
   "outputs": [],
   "source": [
    "print(*r1)"
   ]
  },
  {
   "cell_type": "code",
   "execution_count": null,
   "id": "e5fdafc7",
   "metadata": {},
   "outputs": [],
   "source": [
    "def f1(a,b):\n",
    "    return a+b"
   ]
  },
  {
   "cell_type": "code",
   "execution_count": null,
   "id": "af346f1a",
   "metadata": {},
   "outputs": [],
   "source": [
    "f1(10,20)"
   ]
  },
  {
   "cell_type": "code",
   "execution_count": null,
   "id": "59bdb564",
   "metadata": {},
   "outputs": [],
   "source": [
    "#2perameters\n",
    "f1(10)"
   ]
  },
  {
   "cell_type": "code",
   "execution_count": null,
   "id": "9e050de8",
   "metadata": {},
   "outputs": [],
   "source": [
    "f1(10,20,30)"
   ]
  },
  {
   "cell_type": "code",
   "execution_count": null,
   "id": "443dc4ae",
   "metadata": {},
   "outputs": [],
   "source": [
    "max(1,2,3,4,5)"
   ]
  },
  {
   "cell_type": "code",
   "execution_count": null,
   "id": "a81cf215",
   "metadata": {},
   "outputs": [],
   "source": [
    "def f1(*args):\n",
    "    return args"
   ]
  },
  {
   "cell_type": "code",
   "execution_count": null,
   "id": "fdfd5e76",
   "metadata": {},
   "outputs": [],
   "source": [
    "f1(10)"
   ]
  },
  {
   "cell_type": "code",
   "execution_count": null,
   "id": "fb036be0",
   "metadata": {},
   "outputs": [],
   "source": [
    "f1(10,20,30,40)"
   ]
  },
  {
   "cell_type": "code",
   "execution_count": null,
   "id": "39bdbbae",
   "metadata": {},
   "outputs": [],
   "source": [
    "def f1(*customers):\n",
    "    return customers"
   ]
  },
  {
   "cell_type": "code",
   "execution_count": null,
   "id": "1eb66b0f",
   "metadata": {},
   "outputs": [],
   "source": [
    "f1('akil','nikil','gopi')"
   ]
  },
  {
   "cell_type": "code",
   "execution_count": null,
   "id": "86afc0f6",
   "metadata": {},
   "outputs": [],
   "source": [
    "def pymax1(*args):\n",
    "    mx=args[0]\n",
    "    for i in args:\n",
    "        if i>mx:\n",
    "            mx=i\n",
    "    return mx        "
   ]
  },
  {
   "cell_type": "code",
   "execution_count": null,
   "id": "9c912719",
   "metadata": {},
   "outputs": [],
   "source": [
    "pymax1(1,2,34)"
   ]
  },
  {
   "cell_type": "code",
   "execution_count": null,
   "id": "6ff9f61a",
   "metadata": {},
   "outputs": [],
   "source": [
    "#index error\n",
    "pymax1()"
   ]
  },
  {
   "cell_type": "code",
   "execution_count": 1,
   "id": "1f4ef3ac",
   "metadata": {},
   "outputs": [],
   "source": [
    "def pymax2(*args):\n",
    "    try:\n",
    "        mx=args[0]\n",
    "    except(indexError):\n",
    "        return \"please provide at least 2 elements\"\n",
    "    else:\n",
    "        for i in args:\n",
    "            if i>mx:\n",
    "                mx=i\n",
    "        return mx        "
   ]
  },
  {
   "cell_type": "code",
   "execution_count": null,
   "id": "0e7e56a5",
   "metadata": {},
   "outputs": [],
   "source": [
    "pymax2(1,2,3)"
   ]
  },
  {
   "cell_type": "code",
   "execution_count": null,
   "id": "9467f0cc",
   "metadata": {},
   "outputs": [],
   "source": [
    "pymax2()"
   ]
  },
  {
   "cell_type": "code",
   "execution_count": null,
   "id": "8ffc6bb3",
   "metadata": {},
   "outputs": [],
   "source": [
    "# **kwargs"
   ]
  },
  {
   "cell_type": "code",
   "execution_count": null,
   "id": "96e738a2",
   "metadata": {},
   "outputs": [],
   "source": [
    "def f2(**kwargs):\n",
    "    return kwargs"
   ]
  },
  {
   "cell_type": "code",
   "execution_count": null,
   "id": "af5be8e2",
   "metadata": {},
   "outputs": [],
   "source": [
    "f2(1,2,3)"
   ]
  },
  {
   "cell_type": "code",
   "execution_count": null,
   "id": "1fae34bf",
   "metadata": {},
   "outputs": [],
   "source": [
    "f2(a=1,b=2,c=3)"
   ]
  },
  {
   "cell_type": "code",
   "execution_count": null,
   "id": "ede96020",
   "metadata": {},
   "outputs": [],
   "source": [
    "def pymax3(**kwargs):\n",
    "    mx=list(kwargs.values())[0]\n",
    "    for i in kwargs.values():\n",
    "        if i>mx:\n",
    "            mx=i\n",
    "    return mx        "
   ]
  },
  {
   "cell_type": "code",
   "execution_count": null,
   "id": "ce3c3ee6",
   "metadata": {},
   "outputs": [],
   "source": [
    "pymax3(a=1,c=3,d=4)"
   ]
  },
  {
   "cell_type": "code",
   "execution_count": null,
   "id": "235121b1",
   "metadata": {},
   "outputs": [],
   "source": [
    "def pymax4(**kwargs):\n",
    "    try:\n",
    "        mx=list(kwargs.values())[0]\n",
    "    except(IndexError):\n",
    "        return \"please provide at least 2 values to find bigger value\"\n",
    "    else:\n",
    "        for i in kwargs.values():\n",
    "            if i>mx:\n",
    "                mx=i\n",
    "        return mx        "
   ]
  },
  {
   "cell_type": "code",
   "execution_count": null,
   "id": "f911822e",
   "metadata": {},
   "outputs": [],
   "source": [
    "pymax4()"
   ]
  },
  {
   "cell_type": "code",
   "execution_count": null,
   "id": "9c229f01",
   "metadata": {},
   "outputs": [],
   "source": [
    "pymax4(a=1,b=2,c=3)"
   ]
  },
  {
   "cell_type": "code",
   "execution_count": null,
   "id": "8793ce79",
   "metadata": {},
   "outputs": [],
   "source": [
    "max('a','c','f')"
   ]
  },
  {
   "cell_type": "code",
   "execution_count": null,
   "id": "8dc260a1",
   "metadata": {},
   "outputs": [],
   "source": [
    "ord('a')"
   ]
  },
  {
   "cell_type": "code",
   "execution_count": null,
   "id": "98cc0792",
   "metadata": {},
   "outputs": [],
   "source": [
    "pymax4('a','b','c')"
   ]
  },
  {
   "cell_type": "code",
   "execution_count": null,
   "id": "2f1af963",
   "metadata": {},
   "outputs": [],
   "source": [
    "max('a',3)"
   ]
  },
  {
   "cell_type": "code",
   "execution_count": null,
   "id": "aa850c25",
   "metadata": {},
   "outputs": [],
   "source": [
    "#regular expressions\n",
    "re --> regular expression firstly apply on use ->import method (ex:-import re)\n",
    "use key----->re\n",
    "we can re 2 methods---> match,search"
   ]
  },
  {
   "cell_type": "code",
   "execution_count": null,
   "id": "b881b078",
   "metadata": {},
   "outputs": [],
   "source": [
    "#develop a pattern forvalid email addressas per below rules?\n",
    "1.emai should start with alphabetics only\n",
    "2.after first charecter (alphabetics,_,-,.)\n",
    "3.before @ min charecter 3 max = 25\n",
    "4.between @ and . only charecters length is 3 to 15\n",
    "5.after . only charecters length 2 to 4"
   ]
  },
  {
   "cell_type": "code",
   "execution_count": null,
   "id": "bd281797",
   "metadata": {},
   "outputs": [],
   "source": [
    "import re"
   ]
  },
  {
   "cell_type": "code",
   "execution_count": null,
   "id": "367ad755",
   "metadata": {},
   "outputs": [],
   "source": [
    "email=input(\"enter valid email address = \")\n",
    "if re.search('^[a-z][a-z0-9_.-]{2,24}@[a-z]{3,15}\\.[a-z]{2,4}$',email):\n",
    "             print('valid email address')\n",
    "else:\n",
    "             print('invalid email address')\n",
    "    "
   ]
  },
  {
   "cell_type": "code",
   "execution_count": null,
   "id": "a7aacf60",
   "metadata": {},
   "outputs": [],
   "source": [
    "email=input(\"enter valid email address = \")\n",
    "if re.search('^[a-z][a-z0-9_.-]{2,24}@[a-z]{3,15}\\.[a-z]{2,4}$',email):\n",
    "             print('valid email address')\n",
    "else:\n",
    "             print('invalid email address')\n",
    "    "
   ]
  },
  {
   "cell_type": "code",
   "execution_count": null,
   "id": "e6d80ffe",
   "metadata": {},
   "outputs": [],
   "source": [
    "email=input(\"enter valid email address = \")\n",
    "if re.search('^[a-z][a-z0-9_.-]{2,24}@[a-z]{3,15}\\.[a-z]{2,4}$',email):\n",
    "             print('valid email address')\n",
    "else:\n",
    "             print('invalid email address')\n",
    "    "
   ]
  },
  {
   "cell_type": "code",
   "execution_count": null,
   "id": "fc37af72",
   "metadata": {},
   "outputs": [],
   "source": [
    "email=input(\"enter valid email address = \")\n",
    "if re.search('^[a-z][a-z0-9_.-]{2,24}@[a-z]{3,15}.[a-z]{2,4}$',email):#remove \\ after receving alphabets(X,Z)\n",
    "             print('valid email address')\n",
    "else:\n",
    "             print('invalid email address')\n",
    "    "
   ]
  },
  {
   "cell_type": "code",
   "execution_count": null,
   "id": "c4a2d5d8",
   "metadata": {},
   "outputs": [],
   "source": [
    "email=input(\"enter valid email address = \")\n",
    "if re.search('^[a-z][a-z0-9_.-]{2,24}@[a-z]{3,15}\\.[a-z]{2,4}$',email,re.I):#add on ->re.I total mail capitals\n",
    "             print('valid email address')\n",
    "else:\n",
    "             print('invalid email address')\n",
    "    "
   ]
  },
  {
   "cell_type": "code",
   "execution_count": null,
   "id": "66c3db79",
   "metadata": {},
   "outputs": [],
   "source": [
    "#special sequences\n",
    "#\\d \\D \\s \\S \\w \\W"
   ]
  },
  {
   "cell_type": "code",
   "execution_count": null,
   "id": "f8894a8d",
   "metadata": {},
   "outputs": [],
   "source": [
    "\n",
    "import re"
   ]
  },
  {
   "cell_type": "code",
   "execution_count": null,
   "id": "8972aa58",
   "metadata": {},
   "outputs": [],
   "source": [
    "#\\d==[0-9]\n",
    "str1=input(\"enter some string value = \")\n",
    "if re.search('^\\d$',str1):\n",
    "    print('matched')\n",
    "else:\n",
    "    print('not matched')\n"
   ]
  },
  {
   "cell_type": "code",
   "execution_count": null,
   "id": "ceedb004",
   "metadata": {},
   "outputs": [],
   "source": [
    "#\\d==[0-9]\n",
    "str1=input(\"enter some string value = \")\n",
    "if re.search('\\d',str1):\n",
    "    print('matched')\n",
    "else:\n",
    "    print('not matched')\n"
   ]
  },
  {
   "cell_type": "code",
   "execution_count": null,
   "id": "3c9220da",
   "metadata": {},
   "outputs": [],
   "source": [
    "#\\d==[0-9]\n",
    "str1=input(\"enter some string value = \")\n",
    "if re.search('^\\d{2}$',str1):\n",
    "    print('matched')\n",
    "else:\n",
    "    print('not matched')\n"
   ]
  },
  {
   "cell_type": "code",
   "execution_count": null,
   "id": "47805358",
   "metadata": {},
   "outputs": [],
   "source": [
    "#\\D==[^0-9]\n",
    "str1=input(\"enter some string value = \")\n",
    "if re.search('^\\D$',str1):\n",
    "    print('matched')\n",
    "else:\n",
    "    print('not matched')\n"
   ]
  },
  {
   "cell_type": "code",
   "execution_count": null,
   "id": "c65a7a19",
   "metadata": {},
   "outputs": [],
   "source": [
    "#\\s== only single space\n",
    "str1=input(\"enter some string value = \")\n",
    "if re.search('^\\s$',str1):\n",
    "    print('matched')\n",
    "else:\n",
    "    print('not matched')\n"
   ]
  },
  {
   "cell_type": "code",
   "execution_count": null,
   "id": "f926f5df",
   "metadata": {},
   "outputs": [],
   "source": [
    "#\\S==except space it matches anything\n",
    "str1=input(\"enter some string value = \")\n",
    "if re.search('^\\S$',str1):\n",
    "    print('matched')\n",
    "else:\n",
    "    print('not matched')\n"
   ]
  },
  {
   "cell_type": "code",
   "execution_count": null,
   "id": "38f5a8fb",
   "metadata": {},
   "outputs": [],
   "source": [
    "#\\w==except special charecter\n",
    "str1=input(\"enter some string value = \")\n",
    "if re.search('^\\w$',str1):\n",
    "    print('matched')\n",
    "else:\n",
    "    print('not matched')\n"
   ]
  },
  {
   "cell_type": "code",
   "execution_count": null,
   "id": "320a0ee2",
   "metadata": {},
   "outputs": [],
   "source": [
    "#\\W== it except only special charecter\n",
    "str1=input(\"enter some string value = \")\n",
    "if re.search('^\\W$',str1):\n",
    "    print('matched')\n",
    "else:\n",
    "    print('not matched')\n"
   ]
  },
  {
   "cell_type": "code",
   "execution_count": null,
   "id": "abb40f43",
   "metadata": {},
   "outputs": [],
   "source": [
    "#regular expression for email address and indian mobile number"
   ]
  },
  {
   "cell_type": "code",
   "execution_count": null,
   "id": "121b6cdf",
   "metadata": {},
   "outputs": [],
   "source": [
    "email=input(\"enter valid email address = \")\n",
    "if re.search('^[a-z][a-z0-9_.-]{2,24}@[a-z]{3,15}\\.[a-z]{2,4}$',email,re.I):\n",
    "             print('valid email address')\n",
    "else:\n",
    "             print('invalid email address')\n",
    "    "
   ]
  },
  {
   "cell_type": "raw",
   "id": "a4b0b764",
   "metadata": {},
   "source": [
    "re methods"
   ]
  },
  {
   "cell_type": "code",
   "execution_count": null,
   "id": "e638c3d2",
   "metadata": {},
   "outputs": [],
   "source": [
    "import re"
   ]
  },
  {
   "cell_type": "code",
   "execution_count": null,
   "id": "84e0da5f",
   "metadata": {},
   "outputs": [],
   "source": [
    "email_check = re.compile('^[a-z][a-z0-9_.-]{2-24}@{3,10}\\.[a-z]{2,4}$',re.I)"
   ]
  },
  {
   "cell_type": "code",
   "execution_count": null,
   "id": "a317d04f",
   "metadata": {},
   "outputs": [],
   "source": [
    "email_check.search('raju.raju@gmail.com')"
   ]
  },
  {
   "cell_type": "code",
   "execution_count": null,
   "id": "69a89257",
   "metadata": {},
   "outputs": [],
   "source": [
    "print(email_check.search('raju.raju@gmail.com'))"
   ]
  },
  {
   "cell_type": "code",
   "execution_count": null,
   "id": "9fb8c98f",
   "metadata": {},
   "outputs": [],
   "source": [
    "email=input('enter valid email address = ')\n",
    "if email_check.search(email):\n",
    "    print('valid email address')\n",
    "else:\n",
    "    print('invalid email address')"
   ]
  },
  {
   "cell_type": "code",
   "execution_count": null,
   "id": "c68cb141",
   "metadata": {},
   "outputs": [],
   "source": []
  },
  {
   "cell_type": "code",
   "execution_count": null,
   "id": "575d16f0",
   "metadata": {},
   "outputs": [],
   "source": []
  },
  {
   "cell_type": "code",
   "execution_count": null,
   "id": "00345e22",
   "metadata": {},
   "outputs": [],
   "source": []
  },
  {
   "cell_type": "code",
   "execution_count": null,
   "id": "0df254ba",
   "metadata": {},
   "outputs": [],
   "source": []
  },
  {
   "cell_type": "code",
   "execution_count": null,
   "id": "0653ebda",
   "metadata": {},
   "outputs": [],
   "source": [
    "#map\n",
    "->map function is a fredefined funcion.\n",
    "syntax:-map(function,iterablete)\n",
    "functions:-normal functions,built in functions,lambda functions\n",
    "iterables:-list,tuple,set,dict,array,range,string.....etc    "
   ]
  },
  {
   "cell_type": "code",
   "execution_count": null,
   "id": "7d1a9849",
   "metadata": {},
   "outputs": [],
   "source": [
    "#square list of eliments?\n",
    "use->map,lambda,str"
   ]
  },
  {
   "cell_type": "code",
   "execution_count": null,
   "id": "26e6e734",
   "metadata": {},
   "outputs": [],
   "source": [
    "samplelist=[1,2,3,4,5]\n",
    "def squarelist(i):\n",
    "    return i**2\n",
    "result=map(squarelist,samplelist)\n",
    "print(result)#out put is save on memory location"
   ]
  },
  {
   "cell_type": "code",
   "execution_count": null,
   "id": "729a4e88",
   "metadata": {},
   "outputs": [],
   "source": [
    "samplelist=[1,2,3,4,5]\n",
    "def squarelist(i):\n",
    "    return i**2\n",
    "result=map(squarelist,samplelist)#map function use list come to output"
   ]
  },
  {
   "cell_type": "code",
   "execution_count": null,
   "id": "7df9da80",
   "metadata": {},
   "outputs": [],
   "source": [
    "#use lambda function in map\n",
    "samplelist=[1,2,3,4,5]\n",
    "def squarelist(i):\n",
    "    return i**2\n",
    "result=map(lambda i:i**2,samplelist)\n",
    "print(list(result))"
   ]
  },
  {
   "cell_type": "code",
   "execution_count": null,
   "id": "d7dbb862",
   "metadata": {},
   "outputs": [],
   "source": [
    "samplelist=[1,2,3,4,5]\n",
    "def squarelist(i):\n",
    "    return i**2\n",
    "result=map(str,samplelist)\n",
    "print(list(result))"
   ]
  },
  {
   "cell_type": "code",
   "execution_count": null,
   "id": "6940ac06",
   "metadata": {},
   "outputs": [],
   "source": [
    "import math\n",
    "p=[2.567,8.9,9.1]\n",
    "print(list(map(math.floor,p)))"
   ]
  },
  {
   "cell_type": "code",
   "execution_count": null,
   "id": "0f9c76a0",
   "metadata": {},
   "outputs": [],
   "source": [
    "#given tuple of values of elements is even then square the number if elements is odd then cube the number?"
   ]
  },
  {
   "cell_type": "code",
   "execution_count": null,
   "id": "3d0c6fdc",
   "metadata": {},
   "outputs": [],
   "source": [
    "sampletuple=(1,2,3,4,5,6)            #ex: (1,2,3,4,5,6)\n",
    "def squaretuple(i):                      1**3,2**2,3**3,4**2,5**3,6**2 \n",
    "    if i%2==0:\n",
    "        return i**2                             map object\n",
    "    else:                                list(map object)->[1,4,27,16,15]              \n",
    "        return i**3\n",
    "result=map(squaretuple,samplelist)\n",
    "print(list(result))"
   ]
  },
  {
   "cell_type": "code",
   "execution_count": null,
   "id": "1949f79a",
   "metadata": {},
   "outputs": [],
   "source": [
    "# use lambda function\n",
    "\n",
    "result=map(lambda i:i**2 if i%2==0 else i**3,sampletuple)\n",
    "print(list(result))"
   ]
  },
  {
   "cell_type": "code",
   "execution_count": null,
   "id": "546fda9e",
   "metadata": {},
   "outputs": [],
   "source": [
    "#use map input(int,float,boolian,complex)\n",
    "\n",
    "inputlist=list(map(int,input().split()))\n",
    "print(inputlist)"
   ]
  },
  {
   "cell_type": "code",
   "execution_count": null,
   "id": "94f83829",
   "metadata": {},
   "outputs": [],
   "source": [
    "#filter()\n",
    "syntax:-filter(function,iterable)"
   ]
  },
  {
   "cell_type": "code",
   "execution_count": null,
   "id": "683fc855",
   "metadata": {},
   "outputs": [],
   "source": [
    "#given list of numbers print only even number in list?\n",
    "\n",
    "a=[1,2,3,4,5,6,7,8]\n",
    "def fun(i):\n",
    "    if i%2==0:\n",
    "        return True\n",
    "result=filter(fun,a)\n",
    "print(list(result))"
   ]
  },
  {
   "cell_type": "code",
   "execution_count": null,
   "id": "2e3fd18b",
   "metadata": {},
   "outputs": [],
   "source": [
    "#lambda()\n",
    "a=[1,2,3,4,5,6,7,8]\n",
    "def fun(i):\n",
    "    if i%2==0:\n",
    "        return True\n",
    "result=filter(lambda i:i%2==0,a)\n",
    "print(list(result))"
   ]
  },
  {
   "cell_type": "code",
   "execution_count": null,
   "id": "2e2f634e",
   "metadata": {},
   "outputs": [],
   "source": [
    "#given string print consinents in dont print vowels?\n",
    "\n",
    "a='abcdefghijklmnopqrstuvwxyz'\n",
    "def fun(i):\n",
    "    if i not in 'aeiou':\n",
    "        return True\n",
    "result=filter(fun,a)\n",
    "print(list(result))\n",
    "    \n",
    "    \n",
    "    \n",
    "    "
   ]
  },
  {
   "cell_type": "code",
   "execution_count": null,
   "id": "0492ebe4",
   "metadata": {},
   "outputs": [],
   "source": [
    "# math_module(this function write in 'c' language)\n",
    "\n",
    "#number theoritic & reoresentation functions?"
   ]
  },
  {
   "cell_type": "code",
   "execution_count": null,
   "id": "d65bc124",
   "metadata": {},
   "outputs": [],
   "source": [
    "# 1.ceil()function\n",
    "rounds number to nearest largest integer \n",
    "10.4\n",
    "ceil value 11\n",
    "syntax:-math.ceil(x)\n"
   ]
  },
  {
   "cell_type": "code",
   "execution_count": null,
   "id": "8df67f72",
   "metadata": {},
   "outputs": [],
   "source": [
    "import math"
   ]
  },
  {
   "cell_type": "code",
   "execution_count": null,
   "id": "fd1dc5e8",
   "metadata": {},
   "outputs": [],
   "source": [
    "math.ceil(29.1)"
   ]
  },
  {
   "cell_type": "code",
   "execution_count": null,
   "id": "cba6c420",
   "metadata": {},
   "outputs": [],
   "source": [
    "math.ceil(23.9)"
   ]
  },
  {
   "cell_type": "code",
   "execution_count": null,
   "id": "e64e6d0b",
   "metadata": {},
   "outputs": [],
   "source": [
    "math.ceil(-5.6)"
   ]
  },
  {
   "cell_type": "code",
   "execution_count": null,
   "id": "4b1fbb5d",
   "metadata": {},
   "outputs": [],
   "source": [
    "#comb() function\n",
    "syntax:-math.comb(n,k)--only positive integers\n",
    "select k items from n items without repetetion order    \n",
    "    formula:-n!/(k!*(n-k)!)\n",
    "     n-number of items \n",
    "     k-number of items select in n items.\n",
    "        "
   ]
  },
  {
   "cell_type": "code",
   "execution_count": null,
   "id": "ed3e6dd9",
   "metadata": {},
   "outputs": [],
   "source": [
    "math.comb(10,3)"
   ]
  },
  {
   "cell_type": "code",
   "execution_count": null,
   "id": "c8634024",
   "metadata": {},
   "outputs": [],
   "source": [
    "math.comb(3,2)"
   ]
  },
  {
   "cell_type": "code",
   "execution_count": null,
   "id": "31b4e290",
   "metadata": {},
   "outputs": [],
   "source": [
    "#fabs() function\n",
    "syntax:-math.fabs(x)\n",
    "    convert any number into positive number & printts in floating value"
   ]
  },
  {
   "cell_type": "code",
   "execution_count": null,
   "id": "02f6d760",
   "metadata": {},
   "outputs": [],
   "source": [
    "math.fabs(-10.3)"
   ]
  },
  {
   "cell_type": "code",
   "execution_count": null,
   "id": "abe73e93",
   "metadata": {},
   "outputs": [],
   "source": [
    "math.fabs(-1)"
   ]
  },
  {
   "cell_type": "code",
   "execution_count": null,
   "id": "35d31448",
   "metadata": {},
   "outputs": [],
   "source": [
    "#factorial() function\n",
    "syntax:-math.factorial(number)\n",
    "print factorial for given number     "
   ]
  },
  {
   "cell_type": "code",
   "execution_count": null,
   "id": "d138dc65",
   "metadata": {},
   "outputs": [],
   "source": [
    "math.factorial(5)  #5!=5*4*3*2*1=120"
   ]
  },
  {
   "cell_type": "code",
   "execution_count": null,
   "id": "5daa6095",
   "metadata": {},
   "outputs": [],
   "source": [
    "#floor()function\n",
    "syntax:-math.floor(x)\n",
    "rounds nuber for nearest smallest integer\n",
    "11.6\n",
    "floor value 11\n",
    "    "
   ]
  },
  {
   "cell_type": "code",
   "execution_count": null,
   "id": "1db42daa",
   "metadata": {},
   "outputs": [],
   "source": [
    "math.floor(29.1)"
   ]
  },
  {
   "cell_type": "code",
   "execution_count": null,
   "id": "4b7c8684",
   "metadata": {},
   "outputs": [],
   "source": [
    "math.floor(-5.6)"
   ]
  },
  {
   "cell_type": "code",
   "execution_count": null,
   "id": "e4588fde",
   "metadata": {},
   "outputs": [],
   "source": [
    "#isqrt() function # integer squairoot function\n",
    "syntax:-math.isqrt(number)\n",
    "    "
   ]
  },
  {
   "cell_type": "code",
   "execution_count": null,
   "id": "3002da3e",
   "metadata": {},
   "outputs": [],
   "source": [
    "math.sqrt(8)"
   ]
  },
  {
   "cell_type": "code",
   "execution_count": null,
   "id": "47441c49",
   "metadata": {},
   "outputs": [],
   "source": [
    "math.sqrt(9)"
   ]
  },
  {
   "cell_type": "code",
   "execution_count": null,
   "id": "02373b28",
   "metadata": {},
   "outputs": [],
   "source": [
    "#gcd() function (greatest common divisior)\n",
    "syntax:-math.gcd(*integer)\n",
    "    20,30\n",
    "      |\n",
    "    1,2,3,4,10\n",
    "    gcd for 20,30 is 10"
   ]
  },
  {
   "cell_type": "code",
   "execution_count": null,
   "id": "a84ace2c",
   "metadata": {},
   "outputs": [],
   "source": [
    "math.gcd(15,25)"
   ]
  },
  {
   "cell_type": "code",
   "execution_count": null,
   "id": "12ea7168",
   "metadata": {},
   "outputs": [],
   "source": [
    "math.gcd(10,20,30,40)"
   ]
  },
  {
   "cell_type": "code",
   "execution_count": null,
   "id": "741c974c",
   "metadata": {},
   "outputs": [],
   "source": [
    "#lcm() function(least common multiple)\n",
    "syntax:-math.lcm(*integer)\n",
    "    10,20\n",
    "      |\n",
    "     20,40,60   "
   ]
  },
  {
   "cell_type": "code",
   "execution_count": null,
   "id": "c0c39feb",
   "metadata": {},
   "outputs": [],
   "source": [
    "math.lcm(10,20,30,40)"
   ]
  },
  {
   "cell_type": "code",
   "execution_count": null,
   "id": "b558d41f",
   "metadata": {},
   "outputs": [],
   "source": [
    "math.lcm(13,4,5,10)"
   ]
  },
  {
   "cell_type": "code",
   "execution_count": null,
   "id": "72924e18",
   "metadata": {},
   "outputs": [],
   "source": [
    "#perm()function (permtation function)\n",
    "syntax:-math.perm(n,k)\n",
    "choose k items from n items without reputation order\n",
    "formula:-n!/(n-k)!\n",
    "    "
   ]
  },
  {
   "cell_type": "code",
   "execution_count": null,
   "id": "b9c0df5f",
   "metadata": {},
   "outputs": [],
   "source": [
    "math.perm(20,3)"
   ]
  },
  {
   "cell_type": "code",
   "execution_count": null,
   "id": "566c37b0",
   "metadata": {},
   "outputs": [],
   "source": [
    "math.perm(3,2)"
   ]
  },
  {
   "cell_type": "code",
   "execution_count": null,
   "id": "08646308",
   "metadata": {},
   "outputs": [],
   "source": [
    "#prod()function (product function)\n",
    "syntax:-math.prod(iterable)\n",
    "    [1,2,3]\n",
    "      |\n",
    "    1*2*3=6\n",
    "    "
   ]
  },
  {
   "cell_type": "code",
   "execution_count": null,
   "id": "ca3bdfba",
   "metadata": {},
   "outputs": [],
   "source": [
    "math.prod([1,2,10])"
   ]
  },
  {
   "cell_type": "code",
   "execution_count": null,
   "id": "6316d182",
   "metadata": {},
   "outputs": [],
   "source": [
    "math.prod({10,20,30})"
   ]
  },
  {
   "cell_type": "code",
   "execution_count": null,
   "id": "d599b0dc",
   "metadata": {},
   "outputs": [],
   "source": [
    "math.prod(range(1,5))"
   ]
  },
  {
   "cell_type": "code",
   "execution_count": null,
   "id": "45bc6aa1",
   "metadata": {},
   "outputs": [],
   "source": [
    "#power & logarithmic functions"
   ]
  },
  {
   "cell_type": "code",
   "execution_count": null,
   "id": "ab088ad7",
   "metadata": {},
   "outputs": [],
   "source": [
    "#log()function \n",
    "syntax:-math.log(value)\n",
    "return the natural logarithmic value for given number   "
   ]
  },
  {
   "cell_type": "code",
   "execution_count": null,
   "id": "02746380",
   "metadata": {},
   "outputs": [],
   "source": [
    "math.log(29.1)"
   ]
  },
  {
   "cell_type": "code",
   "execution_count": null,
   "id": "0bda6c56",
   "metadata": {},
   "outputs": [],
   "source": [
    "math.log(1)"
   ]
  },
  {
   "cell_type": "code",
   "execution_count": null,
   "id": "8dd63a7f",
   "metadata": {},
   "outputs": [],
   "source": [
    "#syntax:-math.value(value,base)\n",
    "math.log(10,2)"
   ]
  },
  {
   "cell_type": "code",
   "execution_count": null,
   "id": "8a3baef4",
   "metadata": {},
   "outputs": [],
   "source": [
    "#exp()function(exponent function)\n",
    "syntax:-math.exp(value)"
   ]
  },
  {
   "cell_type": "code",
   "execution_count": null,
   "id": "6b445add",
   "metadata": {},
   "outputs": [],
   "source": [
    "math.exp(29.1)"
   ]
  },
  {
   "cell_type": "code",
   "execution_count": null,
   "id": "9c1b49b2",
   "metadata": {},
   "outputs": [],
   "source": [
    "math.exp(-5.6)"
   ]
  },
  {
   "cell_type": "code",
   "execution_count": null,
   "id": "6dde43ed",
   "metadata": {},
   "outputs": [],
   "source": [
    "math.exp(0)"
   ]
  },
  {
   "cell_type": "code",
   "execution_count": null,
   "id": "762cdc01",
   "metadata": {},
   "outputs": [],
   "source": [
    "#pow()function (power function)\n",
    "syntax:-math.pow(base,degree)\n",
    "    2**3=2*2*2"
   ]
  },
  {
   "cell_type": "code",
   "execution_count": null,
   "id": "614779ae",
   "metadata": {},
   "outputs": [],
   "source": [
    "math.pow(2,3)"
   ]
  },
  {
   "cell_type": "code",
   "execution_count": null,
   "id": "f76ea505",
   "metadata": {},
   "outputs": [],
   "source": [
    "math.pow(12,-2)"
   ]
  },
  {
   "cell_type": "code",
   "execution_count": null,
   "id": "8831ec41",
   "metadata": {},
   "outputs": [],
   "source": [
    "#saqrt()funtion\n",
    "math.sqrt(number)\n"
   ]
  },
  {
   "cell_type": "code",
   "execution_count": null,
   "id": "918787dd",
   "metadata": {},
   "outputs": [],
   "source": [
    "math.sqrt(25)"
   ]
  },
  {
   "cell_type": "code",
   "execution_count": null,
   "id": "1ff98cb1",
   "metadata": {},
   "outputs": [],
   "source": [
    "math.sqrt(2.4)"
   ]
  }
 ],
 "metadata": {
  "kernelspec": {
   "display_name": "Python 3 (ipykernel)",
   "language": "python",
   "name": "python3"
  },
  "language_info": {
   "codemirror_mode": {
    "name": "ipython",
    "version": 3
   },
   "file_extension": ".py",
   "mimetype": "text/x-python",
   "name": "python",
   "nbconvert_exporter": "python",
   "pygments_lexer": "ipython3",
   "version": "3.10.9"
  }
 },
 "nbformat": 4,
 "nbformat_minor": 5
}
